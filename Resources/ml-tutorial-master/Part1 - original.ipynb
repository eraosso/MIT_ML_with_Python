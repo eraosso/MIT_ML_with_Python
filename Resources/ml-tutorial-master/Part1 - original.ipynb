{
 "cells": [
  {
   "cell_type": "markdown",
   "metadata": {},
   "source": [
    "# 6.86x - Introduction to ML Packages (Part 1)\n",
    "\n",
    "This tutorial is designed to provide a bird's eye view of the ML packages landscape.\n",
    "The goal is not to give an in-depth explanation of all the features of each packages, but rather demonstrate the purpose of a few widely used ML packages. For more details, we refer the reader to the packages' documentation and other online tutorials.\n",
    "\n",
    "You can go through the Jupyter, Numpy and Matplotlib sections before the course starts, and then start studying the next sections after you have completed unit 1."
   ]
  },
  {
   "cell_type": "markdown",
   "metadata": {},
   "source": [
    "https://github.com/varal7/ml-tutorial"
   ]
  },
  {
   "cell_type": "markdown",
   "metadata": {},
   "source": [
    "## Jupyter\n",
    "\n",
    "[Jupyter](https://jupyter.org) is not strictly speaking an ML package. It provides a browser front-end connected to an instance of IPython which allows REPL for quick testing, allows to create documents that intertwines code, output, images, and text. This is great for prototyping, demonstrations and tutorials, but terrible for actual coding. "
   ]
  },
  {
   "cell_type": "code",
   "execution_count": null,
   "metadata": {
    "ExecuteTime": {
     "end_time": "2019-02-20T16:35:28.485220Z",
     "start_time": "2019-02-20T16:35:28.476294Z"
    }
   },
   "outputs": [],
   "source": [
    "6*7"
   ]
  },
  {
   "cell_type": "code",
   "execution_count": null,
   "metadata": {
    "ExecuteTime": {
     "end_time": "2019-02-20T16:35:28.492012Z",
     "start_time": "2019-02-20T16:35:28.487024Z"
    }
   },
   "outputs": [],
   "source": [
    "def tokenize(text):\n",
    "    return text.split(\" \")"
   ]
  },
  {
   "cell_type": "code",
   "execution_count": null,
   "metadata": {
    "ExecuteTime": {
     "end_time": "2019-02-20T16:35:28.497368Z",
     "start_time": "2019-02-20T16:35:28.494171Z"
    },
    "scrolled": true
   },
   "outputs": [],
   "source": [
    "text = \"In a shocking finding, scientist discovered a herd of unicorns living in a remote, previously unexplored valley\"\n",
    "print(tokenize(text))"
   ]
  },
  {
   "cell_type": "markdown",
   "metadata": {},
   "source": [
    "## Numpy"
   ]
  },
  {
   "cell_type": "code",
   "execution_count": null,
   "metadata": {
    "ExecuteTime": {
     "end_time": "2019-02-20T16:35:28.564975Z",
     "start_time": "2019-02-20T16:35:28.499321Z"
    }
   },
   "outputs": [],
   "source": [
    "import numpy as np"
   ]
  },
  {
   "cell_type": "markdown",
   "metadata": {},
   "source": [
    "[Numpy](http://www.numpy.org) is desiged to handle large multidimensional arrays and enable efficient computations with them. In the back, it runs pre-compiled C code which is much faster than, say, a Python `for` loop"
   ]
  },
  {
   "cell_type": "markdown",
   "metadata": {
    "ExecuteTime": {
     "end_time": "2019-02-19T16:57:10.540510Z",
     "start_time": "2019-02-19T16:57:10.496709Z"
    }
   },
   "source": [
    "In the Numpy tutorial, we have covered the basics of Numpy, numpy arrays, element-wise operations, matrices operations and generating random matrices. \n",
    "In this section, we'll cover indexing, slicing and broadcasting, which are useful concepts that will be reused in `Pandas` and `PyTorch`.\n"
   ]
  },
  {
   "cell_type": "markdown",
   "metadata": {},
   "source": [
    "### Indexing and slicing"
   ]
  },
  {
   "cell_type": "markdown",
   "metadata": {},
   "source": [
    "Numpy arrays can be indexed and sliced like regular python arrays"
   ]
  },
  {
   "cell_type": "code",
   "execution_count": null,
   "metadata": {
    "ExecuteTime": {
     "end_time": "2019-02-20T16:35:28.569555Z",
     "start_time": "2019-02-20T16:35:28.566928Z"
    }
   },
   "outputs": [],
   "source": [
    "a_py = [1, 2, 3, 4, 5, 6, 7, 8, 9]\n",
    "a_np = np.array(a_py)"
   ]
  },
  {
   "cell_type": "code",
   "execution_count": null,
   "metadata": {
    "ExecuteTime": {
     "end_time": "2019-02-20T16:35:28.575416Z",
     "start_time": "2019-02-20T16:35:28.571576Z"
    }
   },
   "outputs": [],
   "source": [
    "print(a_py[3:7:2], a_np[3:7:2])\n",
    "print(a_py[2:-1:2], a_np[2:-1:2])\n",
    "print(a_py[::-1], a_np[::-1])"
   ]
  },
  {
   "cell_type": "markdown",
   "metadata": {},
   "source": [
    "But you can also use arrays to index other arrays"
   ]
  },
  {
   "cell_type": "code",
   "execution_count": null,
   "metadata": {
    "ExecuteTime": {
     "end_time": "2019-02-20T16:35:28.581665Z",
     "start_time": "2019-02-20T16:35:28.577506Z"
    }
   },
   "outputs": [],
   "source": [
    "idx = np.array([7,2])\n",
    "a_np[idx]"
   ]
  },
  {
   "cell_type": "code",
   "execution_count": null,
   "metadata": {
    "ExecuteTime": {
     "end_time": "2019-02-20T16:35:28.585548Z",
     "start_time": "2019-02-20T16:35:28.583493Z"
    }
   },
   "outputs": [],
   "source": [
    "# a_py[idx]"
   ]
  },
  {
   "cell_type": "markdown",
   "metadata": {},
   "source": [
    "Which allows convenient querying, reindexing and even sorting"
   ]
  },
  {
   "cell_type": "code",
   "execution_count": null,
   "metadata": {
    "ExecuteTime": {
     "end_time": "2019-02-20T16:35:28.591506Z",
     "start_time": "2019-02-20T16:35:28.587586Z"
    }
   },
   "outputs": [],
   "source": [
    "ages = np.random.randint(low=30, high=60, size=10)\n",
    "heights = np.random.randint(low=150, high=210, size=10)\n",
    "\n",
    "print(ages)\n",
    "print(heights)"
   ]
  },
  {
   "cell_type": "code",
   "execution_count": null,
   "metadata": {
    "ExecuteTime": {
     "end_time": "2019-02-20T16:35:28.596276Z",
     "start_time": "2019-02-20T16:35:28.593558Z"
    }
   },
   "outputs": [],
   "source": [
    "print(ages < 50)"
   ]
  },
  {
   "cell_type": "code",
   "execution_count": null,
   "metadata": {
    "ExecuteTime": {
     "end_time": "2019-02-20T16:35:28.602746Z",
     "start_time": "2019-02-20T16:35:28.598538Z"
    }
   },
   "outputs": [],
   "source": [
    "print(heights[ages < 50])\n",
    "print(ages[ages < 50])"
   ]
  },
  {
   "cell_type": "code",
   "execution_count": null,
   "metadata": {
    "ExecuteTime": {
     "end_time": "2019-02-20T16:35:28.610474Z",
     "start_time": "2019-02-20T16:35:28.605443Z"
    }
   },
   "outputs": [],
   "source": [
    "shuffled_idx = np.random.permutation(10)\n",
    "print(shuffled_idx)\n",
    "print(ages[shuffled_idx])\n",
    "print(heights[shuffled_idx])"
   ]
  },
  {
   "cell_type": "code",
   "execution_count": null,
   "metadata": {
    "ExecuteTime": {
     "end_time": "2019-02-20T16:35:28.617215Z",
     "start_time": "2019-02-20T16:35:28.613422Z"
    }
   },
   "outputs": [],
   "source": [
    "sorted_idx = np.argsort(ages)\n",
    "print(sorted_idx)\n",
    "print(ages[sorted_idx])\n",
    "print(heights[sorted_idx])"
   ]
  },
  {
   "cell_type": "markdown",
   "metadata": {},
   "source": [
    "### Broadcasting"
   ]
  },
  {
   "cell_type": "markdown",
   "metadata": {},
   "source": [
    "When Numpy is asked to perform an operation between arrays of differents sizes, it \"broadcasts\" the smaller one to the bigger one."
   ]
  },
  {
   "cell_type": "code",
   "execution_count": null,
   "metadata": {
    "ExecuteTime": {
     "end_time": "2019-02-20T16:35:28.624048Z",
     "start_time": "2019-02-20T16:35:28.619908Z"
    }
   },
   "outputs": [],
   "source": [
    "a = np.array([4, 5, 6])\n",
    "b = np.array([2, 2, 2])\n",
    "a * b"
   ]
  },
  {
   "cell_type": "code",
   "execution_count": null,
   "metadata": {
    "ExecuteTime": {
     "end_time": "2019-02-20T16:35:28.630303Z",
     "start_time": "2019-02-20T16:35:28.626019Z"
    }
   },
   "outputs": [],
   "source": [
    "a = np.array([4, 5, 6])\n",
    "b = 2\n",
    "a * b"
   ]
  },
  {
   "cell_type": "markdown",
   "metadata": {
    "ExecuteTime": {
     "end_time": "2019-02-19T17:16:34.417254Z",
     "start_time": "2019-02-19T17:16:34.411064Z"
    }
   },
   "source": [
    "The two snippets of code above are equivalent but the second is easier to read and also more efficient."
   ]
  },
  {
   "cell_type": "code",
   "execution_count": null,
   "metadata": {
    "ExecuteTime": {
     "end_time": "2019-02-20T16:35:28.634813Z",
     "start_time": "2019-02-20T16:35:28.632236Z"
    }
   },
   "outputs": [],
   "source": [
    "a = np.arange(10).reshape(1,10)\n",
    "b = np.arange(12).reshape(12,1)"
   ]
  },
  {
   "cell_type": "code",
   "execution_count": null,
   "metadata": {
    "ExecuteTime": {
     "end_time": "2019-02-20T16:35:28.639328Z",
     "start_time": "2019-02-20T16:35:28.636394Z"
    }
   },
   "outputs": [],
   "source": [
    "print(a)\n",
    "print(b)"
   ]
  },
  {
   "cell_type": "code",
   "execution_count": null,
   "metadata": {
    "ExecuteTime": {
     "end_time": "2019-02-20T16:35:28.643927Z",
     "start_time": "2019-02-20T16:35:28.640936Z"
    }
   },
   "outputs": [],
   "source": [
    "print(a * b)"
   ]
  },
  {
   "cell_type": "markdown",
   "metadata": {},
   "source": [
    "## Matplotlib\n"
   ]
  },
  {
   "cell_type": "code",
   "execution_count": null,
   "metadata": {
    "ExecuteTime": {
     "end_time": "2019-02-20T16:35:28.850451Z",
     "start_time": "2019-02-20T16:35:28.645580Z"
    }
   },
   "outputs": [],
   "source": [
    "%matplotlib inline\n",
    "import matplotlib.pyplot as plt"
   ]
  },
  {
   "cell_type": "code",
   "execution_count": null,
   "metadata": {
    "ExecuteTime": {
     "end_time": "2019-02-20T16:35:28.855206Z",
     "start_time": "2019-02-20T16:35:28.852980Z"
    }
   },
   "outputs": [],
   "source": [
    "plt.rcParams['figure.figsize'] = [10, 7]"
   ]
  },
  {
   "cell_type": "markdown",
   "metadata": {},
   "source": [
    "[Matplotlib](https://matplotlib.org) is the go-to library to produce plots with Python. It comes with two APIs: a MATLAB-like that a lot of people have learned to use and love, and an object-oriented API that we recommend using."
   ]
  },
  {
   "cell_type": "code",
   "execution_count": null,
   "metadata": {
    "ExecuteTime": {
     "end_time": "2019-02-20T16:35:29.059343Z",
     "start_time": "2019-02-20T16:35:28.857510Z"
    }
   },
   "outputs": [],
   "source": [
    "x = np.linspace(-2*np.pi, 2*np.pi, 400)\n",
    "y = np.tanh(x)\n",
    "fig, ax = plt.subplots()\n",
    "ax.plot(x, y)"
   ]
  },
  {
   "cell_type": "markdown",
   "metadata": {},
   "source": [
    "You can plot multiple subplots in the same figure, or multiple functions in the same subplot"
   ]
  },
  {
   "cell_type": "code",
   "execution_count": null,
   "metadata": {
    "ExecuteTime": {
     "end_time": "2019-02-20T16:35:29.335327Z",
     "start_time": "2019-02-20T16:35:29.061314Z"
    }
   },
   "outputs": [],
   "source": [
    "x = np.linspace(0, 2*np.pi, 400)\n",
    "y1 = np.tanh(x)\n",
    "y2 = np.cos(x**2)\n",
    "fig, axes = plt.subplots(1, 2, sharey=True)\n",
    "axes[1].plot(x, y1)\n",
    "axes[1].plot(x, -y1)\n",
    "axes[0].plot(x, y2)"
   ]
  },
  {
   "cell_type": "markdown",
   "metadata": {},
   "source": [
    "Matplotlib also comes with a lot of different options to customize, the colors, the labels, the axes, etc.\n",
    "\n",
    "For instance, see this [introduction to matplotlib](https://nbviewer.jupyter.org/github/jrjohansson/scientific-python-lectures/blob/master/Lecture-4-Matplotlib.ipynb)"
   ]
  },
  {
   "cell_type": "markdown",
   "metadata": {},
   "source": [
    "## Scikit-learn (read this after you have completed unit 1)"
   ]
  },
  {
   "cell_type": "markdown",
   "metadata": {},
   "source": [
    "[Scikit-learn](https://scikit-learn.org/) includes a number of features and utilities to kickstart your journey in Machine Learning. "
   ]
  },
  {
   "cell_type": "markdown",
   "metadata": {},
   "source": [
    "### A toy example"
   ]
  },
  {
   "cell_type": "code",
   "execution_count": null,
   "metadata": {
    "ExecuteTime": {
     "end_time": "2019-02-20T16:35:29.678896Z",
     "start_time": "2019-02-20T16:35:29.337354Z"
    }
   },
   "outputs": [],
   "source": [
    "from sklearn.datasets import make_blobs"
   ]
  },
  {
   "cell_type": "code",
   "execution_count": null,
   "metadata": {
    "ExecuteTime": {
     "end_time": "2019-02-20T16:35:29.686217Z",
     "start_time": "2019-02-20T16:35:29.681106Z"
    }
   },
   "outputs": [],
   "source": [
    "X, y = make_blobs(n_samples=1000, centers=2, random_state=0)\n",
    "X[:5], y[:5]"
   ]
  },
  {
   "cell_type": "code",
   "execution_count": null,
   "metadata": {
    "ExecuteTime": {
     "end_time": "2019-02-20T16:35:29.877682Z",
     "start_time": "2019-02-20T16:35:29.688363Z"
    },
    "scrolled": false
   },
   "outputs": [],
   "source": [
    "fig, ax = plt.subplots()\n",
    "for label in [0, 1]:\n",
    "    mask = (y == label)\n",
    "    ax.scatter(X[mask, 0], X[mask, 1])"
   ]
  },
  {
   "cell_type": "code",
   "execution_count": null,
   "metadata": {
    "ExecuteTime": {
     "end_time": "2019-02-20T16:35:29.892563Z",
     "start_time": "2019-02-20T16:35:29.879625Z"
    }
   },
   "outputs": [],
   "source": [
    "from sklearn.model_selection import train_test_split"
   ]
  },
  {
   "cell_type": "code",
   "execution_count": null,
   "metadata": {
    "ExecuteTime": {
     "end_time": "2019-02-20T16:35:29.897027Z",
     "start_time": "2019-02-20T16:35:29.894282Z"
    }
   },
   "outputs": [],
   "source": [
    "X_train, X_test, y_train, y_test = train_test_split(X, y, test_size=0.2)"
   ]
  },
  {
   "cell_type": "code",
   "execution_count": null,
   "metadata": {
    "ExecuteTime": {
     "end_time": "2019-02-20T16:35:30.099709Z",
     "start_time": "2019-02-20T16:35:29.898998Z"
    }
   },
   "outputs": [],
   "source": [
    "fig, ax = plt.subplots()\n",
    "for label in [0, 1]:\n",
    "    mask = (y_train == label)\n",
    "    ax.scatter(X_train[mask, 0], X_train[mask, 1])\n",
    "for label in [0, 1]:\n",
    "    mask = (y_test == label)\n",
    "    ax.scatter(X_test[mask, 0], X_test[mask, 1])"
   ]
  },
  {
   "cell_type": "markdown",
   "metadata": {},
   "source": [
    "Sklearn uses a uniform and very consistent API, making it easy to switch algorithms"
   ]
  },
  {
   "cell_type": "markdown",
   "metadata": {},
   "source": [
    "For instance, training and predicting with a perceptron."
   ]
  },
  {
   "cell_type": "code",
   "execution_count": null,
   "metadata": {
    "ExecuteTime": {
     "end_time": "2019-02-20T16:35:30.134116Z",
     "start_time": "2019-02-20T16:35:30.101899Z"
    }
   },
   "outputs": [],
   "source": [
    "from sklearn.linear_model import Perceptron\n",
    "from sklearn.svm import LinearSVC\n",
    "from sklearn.metrics import accuracy_score"
   ]
  },
  {
   "cell_type": "code",
   "execution_count": null,
   "metadata": {
    "ExecuteTime": {
     "end_time": "2019-02-20T16:35:30.138638Z",
     "start_time": "2019-02-20T16:35:30.136452Z"
    }
   },
   "outputs": [],
   "source": [
    "clf = Perceptron(max_iter=40, random_state=0)\n",
    "# clf = LinearSVC(max_iter=40, random_state=0)"
   ]
  },
  {
   "cell_type": "code",
   "execution_count": null,
   "metadata": {
    "ExecuteTime": {
     "end_time": "2019-02-20T16:35:30.147233Z",
     "start_time": "2019-02-20T16:35:30.140773Z"
    }
   },
   "outputs": [],
   "source": [
    "clf.fit(X_train, y_train)\n",
    "y_pred = clf.predict(X_test)\n",
    "\n",
    "print('Test accuracy: %.4f' % accuracy_score(y_test, y_pred))"
   ]
  },
  {
   "cell_type": "code",
   "execution_count": null,
   "metadata": {
    "ExecuteTime": {
     "end_time": "2019-02-20T16:35:30.151712Z",
     "start_time": "2019-02-20T16:35:30.149388Z"
    }
   },
   "outputs": [],
   "source": [
    "theta = clf.coef_[0]\n",
    "theta_0 = clf.intercept_"
   ]
  },
  {
   "cell_type": "code",
   "execution_count": null,
   "metadata": {
    "ExecuteTime": {
     "end_time": "2019-02-20T16:35:30.361222Z",
     "start_time": "2019-02-20T16:35:30.153768Z"
    }
   },
   "outputs": [],
   "source": [
    "fig, ax = plt.subplots()\n",
    "for label in [0, 1]:\n",
    "    mask = (y_train == label)\n",
    "    ax.scatter(X_train[mask, 0], X_train[mask, 1])\n",
    "for label in [0, 1]:\n",
    "    mask = (y_test == label)\n",
    "    ax.scatter(X_test[mask, 0], X_test[mask, 1])\n",
    "x_bnd = np.linspace(X[:, 0].min() - 1, X[:, 0].max() + 1,  400)\n",
    "y_bnd = - x_bnd * (theta[0] /theta[1]) - (theta_0 / theta[1])\n",
    "ax.plot(x_bnd, y_bnd)\n"
   ]
  },
  {
   "cell_type": "markdown",
   "metadata": {},
   "source": [
    "### Another toy example"
   ]
  },
  {
   "cell_type": "code",
   "execution_count": null,
   "metadata": {
    "ExecuteTime": {
     "end_time": "2019-02-20T16:35:30.548447Z",
     "start_time": "2019-02-20T16:35:30.363336Z"
    }
   },
   "outputs": [],
   "source": [
    "X, y = make_blobs(n_samples=500, centers=3, random_state=7)\n",
    "y[y==2] = 0\n",
    "fig, ax = plt.subplots()\n",
    "for label in [0, 1]:\n",
    "    mask = (y == label)\n",
    "    ax.scatter(X[mask, 0], X[mask, 1])"
   ]
  },
  {
   "cell_type": "code",
   "execution_count": null,
   "metadata": {
    "ExecuteTime": {
     "end_time": "2019-02-20T16:35:30.553418Z",
     "start_time": "2019-02-20T16:35:30.550315Z"
    }
   },
   "outputs": [],
   "source": [
    "X_train, X_test, y_train, y_test = train_test_split(X, y, test_size=0.2)"
   ]
  },
  {
   "cell_type": "code",
   "execution_count": null,
   "metadata": {
    "ExecuteTime": {
     "end_time": "2019-02-20T16:35:30.564550Z",
     "start_time": "2019-02-20T16:35:30.555270Z"
    }
   },
   "outputs": [],
   "source": [
    "from sklearn.svm import SVC\n",
    "# clf = SVC(kernel=\"linear\", random_state=0)\n",
    "clf = SVC(kernel=\"rbf\", random_state=0)\n",
    "clf.fit(X_train, y_train)"
   ]
  },
  {
   "cell_type": "code",
   "execution_count": null,
   "metadata": {
    "ExecuteTime": {
     "end_time": "2019-02-20T16:35:30.570590Z",
     "start_time": "2019-02-20T16:35:30.566597Z"
    }
   },
   "outputs": [],
   "source": [
    "y_pred = clf.predict(X_test)\n",
    "\n",
    "print('Test accuracy: %.4f' % accuracy_score(y_test, y_pred))"
   ]
  },
  {
   "cell_type": "code",
   "execution_count": null,
   "metadata": {
    "ExecuteTime": {
     "end_time": "2019-02-20T16:35:30.836667Z",
     "start_time": "2019-02-20T16:35:30.572440Z"
    }
   },
   "outputs": [],
   "source": [
    "x_min = X[:, 0].min()\n",
    "x_max = X[:, 0].max()\n",
    "y_min = X[:, 1].min()\n",
    "y_max = X[:, 1].max()\n",
    "\n",
    "XX, YY = np.mgrid[x_min:x_max:200j, y_min:y_max:200j]\n",
    "Z = clf.decision_function(np.c_[XX.ravel(), YY.ravel()])\n",
    "\n",
    "fig, ax = plt.subplots()\n",
    "for label in [0, 1]:\n",
    "    mask = (y == label)\n",
    "    ax.scatter(X[mask, 0], X[mask, 1])\n",
    "    \n",
    "Z = Z.reshape(XX.shape)\n",
    "ax.contour(XX, YY, Z, colors=\"black\",\n",
    "    linestyles=['--', '-', '--'], levels=[-.5, 0, .5])"
   ]
  },
  {
   "cell_type": "markdown",
   "metadata": {},
   "source": [
    "### Classify digits"
   ]
  },
  {
   "cell_type": "code",
   "execution_count": null,
   "metadata": {
    "ExecuteTime": {
     "end_time": "2019-02-20T16:35:30.841115Z",
     "start_time": "2019-02-20T16:35:30.838828Z"
    }
   },
   "outputs": [],
   "source": [
    "# from sklearn.datasets import load_breast_cancer\n",
    "# breast_cancer = load_breast_cancer()\n",
    "# X, y = breast_cancer.data, breast_cancer.target\n",
    "# X_train, X_test, y_train, y_test = train_test_split(X, y, test_size=0.2, random_state=0)"
   ]
  },
  {
   "cell_type": "code",
   "execution_count": null,
   "metadata": {
    "ExecuteTime": {
     "end_time": "2019-02-20T16:35:30.848232Z",
     "start_time": "2019-02-20T16:35:30.842930Z"
    }
   },
   "outputs": [],
   "source": [
    "from sklearn.datasets import load_digits"
   ]
  },
  {
   "cell_type": "code",
   "execution_count": null,
   "metadata": {
    "ExecuteTime": {
     "end_time": "2019-02-20T16:35:30.924328Z",
     "start_time": "2019-02-20T16:35:30.850181Z"
    }
   },
   "outputs": [],
   "source": [
    "digits = load_digits()\n",
    "X, y = digits.data, digits.target\n",
    "X_train, X_test, y_train, y_test = train_test_split(X, y, test_size=0.2, random_state=0)"
   ]
  },
  {
   "cell_type": "code",
   "execution_count": null,
   "metadata": {
    "ExecuteTime": {
     "end_time": "2019-02-20T16:35:31.114710Z",
     "start_time": "2019-02-20T16:35:30.926361Z"
    }
   },
   "outputs": [],
   "source": [
    "fig, ax = plt.subplots()\n",
    "ax.matshow(digits.images[0])"
   ]
  },
  {
   "cell_type": "code",
   "execution_count": null,
   "metadata": {
    "ExecuteTime": {
     "end_time": "2019-02-20T16:35:31.119708Z",
     "start_time": "2019-02-20T16:35:31.116440Z"
    }
   },
   "outputs": [],
   "source": [
    "X_train.shape"
   ]
  },
  {
   "cell_type": "code",
   "execution_count": null,
   "metadata": {
    "ExecuteTime": {
     "end_time": "2019-02-20T16:35:31.124124Z",
     "start_time": "2019-02-20T16:35:31.121711Z"
    }
   },
   "outputs": [],
   "source": [
    "clf = Perceptron(max_iter=40, random_state=0)"
   ]
  },
  {
   "cell_type": "code",
   "execution_count": null,
   "metadata": {
    "ExecuteTime": {
     "end_time": "2019-02-20T16:35:31.191239Z",
     "start_time": "2019-02-20T16:35:31.126079Z"
    }
   },
   "outputs": [],
   "source": [
    "clf.fit(X_train, y_train)\n",
    "y_pred = clf.predict(X_test)\n",
    "print('Accuracy: %.4f' % accuracy_score(y_test, y_pred))"
   ]
  },
  {
   "cell_type": "code",
   "execution_count": null,
   "metadata": {
    "ExecuteTime": {
     "end_time": "2019-02-20T16:35:31.195327Z",
     "start_time": "2019-02-20T16:35:31.192983Z"
    }
   },
   "outputs": [],
   "source": [
    "clf = LinearSVC(C=1, random_state=0)"
   ]
  },
  {
   "cell_type": "code",
   "execution_count": null,
   "metadata": {
    "ExecuteTime": {
     "end_time": "2019-02-20T16:35:31.287245Z",
     "start_time": "2019-02-20T16:35:31.197110Z"
    }
   },
   "outputs": [],
   "source": [
    "clf.fit(X_train, y_train)\n",
    "y_pred = clf.predict(X_test)\n",
    "print('Accuracy: %.4f' % accuracy_score(y_test, y_pred))"
   ]
  },
  {
   "cell_type": "code",
   "execution_count": null,
   "metadata": {
    "ExecuteTime": {
     "end_time": "2019-02-20T16:35:31.291955Z",
     "start_time": "2019-02-20T16:35:31.289158Z"
    }
   },
   "outputs": [],
   "source": [
    "from sklearn.metrics import confusion_matrix"
   ]
  },
  {
   "cell_type": "code",
   "execution_count": null,
   "metadata": {
    "ExecuteTime": {
     "end_time": "2019-02-20T16:35:31.299243Z",
     "start_time": "2019-02-20T16:35:31.293825Z"
    }
   },
   "outputs": [],
   "source": [
    "confusion_matrix(y_test, clf.predict(X_test))"
   ]
  },
  {
   "cell_type": "markdown",
   "metadata": {},
   "source": [
    "Scikit-learn also includes utilities to quickly compute a cross validation score..."
   ]
  },
  {
   "cell_type": "code",
   "execution_count": null,
   "metadata": {
    "ExecuteTime": {
     "end_time": "2019-02-20T16:35:31.653085Z",
     "start_time": "2019-02-20T16:35:31.301137Z"
    }
   },
   "outputs": [],
   "source": [
    "clf = LinearSVC(C=1, random_state=0)\n",
    "from sklearn.model_selection import cross_val_score\n",
    "scores =  cross_val_score(clf, X_train, y_train, cv=5)\n",
    "print(\"Mean: %.4f, Std: %.4f\" % (np.mean(scores), np.std(scores)))"
   ]
  },
  {
   "cell_type": "code",
   "execution_count": null,
   "metadata": {
    "ExecuteTime": {
     "end_time": "2019-02-20T16:35:31.997193Z",
     "start_time": "2019-02-20T16:35:31.654977Z"
    }
   },
   "outputs": [],
   "source": [
    "clf = LinearSVC(C=0.1, random_state=0)\n",
    "scores =  cross_val_score(clf, X_train, y_train, cv=5)\n",
    "print(\"Mean: %.4f, Std: %.4f\" % (np.mean(scores), np.std(scores)))"
   ]
  },
  {
   "cell_type": "markdown",
   "metadata": {},
   "source": [
    "... or to perform a grid search"
   ]
  },
  {
   "cell_type": "code",
   "execution_count": null,
   "metadata": {
    "ExecuteTime": {
     "end_time": "2019-02-20T16:35:32.001507Z",
     "start_time": "2019-02-20T16:35:31.998962Z"
    }
   },
   "outputs": [],
   "source": [
    "from sklearn.model_selection import GridSearchCV"
   ]
  },
  {
   "cell_type": "code",
   "execution_count": null,
   "metadata": {
    "ExecuteTime": {
     "end_time": "2019-02-20T16:35:32.010342Z",
     "start_time": "2019-02-20T16:35:32.004094Z"
    }
   },
   "outputs": [],
   "source": [
    "clf = LinearSVC(random_state=0)\n",
    "param_grid = {'C': 10. ** np.arange(-6, 4)}\n",
    "grid_search = GridSearchCV(clf, param_grid=param_grid, cv=5, verbose=3, return_train_score=True)"
   ]
  },
  {
   "cell_type": "code",
   "execution_count": null,
   "metadata": {
    "ExecuteTime": {
     "end_time": "2019-02-20T16:35:34.503447Z",
     "start_time": "2019-02-20T16:35:32.012143Z"
    }
   },
   "outputs": [],
   "source": [
    "grid_search.fit(X_train, y_train);"
   ]
  },
  {
   "cell_type": "code",
   "execution_count": null,
   "metadata": {
    "ExecuteTime": {
     "end_time": "2019-02-20T16:35:34.508680Z",
     "start_time": "2019-02-20T16:35:34.505328Z"
    }
   },
   "outputs": [],
   "source": [
    "print(grid_search.best_params_)"
   ]
  },
  {
   "cell_type": "code",
   "execution_count": null,
   "metadata": {
    "ExecuteTime": {
     "end_time": "2019-02-20T16:35:34.513596Z",
     "start_time": "2019-02-20T16:35:34.510724Z"
    }
   },
   "outputs": [],
   "source": [
    "print(grid_search.best_score_)"
   ]
  },
  {
   "cell_type": "code",
   "execution_count": null,
   "metadata": {
    "ExecuteTime": {
     "end_time": "2019-02-20T16:35:34.519424Z",
     "start_time": "2019-02-20T16:35:34.515521Z"
    }
   },
   "outputs": [],
   "source": [
    "y_pred = grid_search.predict(X_test)\n",
    "print('Accuracy: %.4f' % accuracy_score(y_test, y_pred))"
   ]
  },
  {
   "cell_type": "markdown",
   "metadata": {},
   "source": [
    "And a lot more features! \n",
    "We have only looked at some classification models and some model selection features, but sklearn can also be used for regression, "
   ]
  },
  {
   "cell_type": "markdown",
   "metadata": {},
   "source": [
    "## Pandas"
   ]
  },
  {
   "cell_type": "code",
   "execution_count": null,
   "metadata": {
    "ExecuteTime": {
     "end_time": "2019-02-20T16:35:34.766901Z",
     "start_time": "2019-02-20T16:35:34.521399Z"
    }
   },
   "outputs": [],
   "source": [
    "import pandas as pd"
   ]
  },
  {
   "cell_type": "markdown",
   "metadata": {},
   "source": [
    "[Pandas](http://pandas.pydata.org) is a library that provides a set of tools for data analysis (Python Data Analysis Library). "
   ]
  },
  {
   "cell_type": "markdown",
   "metadata": {},
   "source": [
    "Pandas dataframes can be created by importing a CSV file (or TSV, or JSON, or SQL, etc.)"
   ]
  },
  {
   "cell_type": "code",
   "execution_count": null,
   "metadata": {
    "ExecuteTime": {
     "end_time": "2019-02-20T16:35:34.771137Z",
     "start_time": "2019-02-20T16:35:34.768606Z"
    }
   },
   "outputs": [],
   "source": [
    "# df = pd.read_csv(\"file.csv\")"
   ]
  },
  {
   "cell_type": "markdown",
   "metadata": {},
   "source": [
    "Pandas dataframes can also be created directly from a dictionary of arrays."
   ]
  },
  {
   "cell_type": "code",
   "execution_count": null,
   "metadata": {
    "ExecuteTime": {
     "end_time": "2019-02-20T16:35:34.783033Z",
     "start_time": "2019-02-20T16:35:34.774533Z"
    }
   },
   "outputs": [],
   "source": [
    "print(grid_search.cv_results_)"
   ]
  },
  {
   "cell_type": "code",
   "execution_count": null,
   "metadata": {
    "ExecuteTime": {
     "end_time": "2019-02-20T16:35:34.824275Z",
     "start_time": "2019-02-20T16:35:34.784975Z"
    }
   },
   "outputs": [],
   "source": [
    "df = pd.DataFrame(grid_search.cv_results_)\n",
    "df"
   ]
  },
  {
   "cell_type": "markdown",
   "metadata": {},
   "source": [
    "Pandas columns are also Numpy arrays, so they obey to the same indexing magic"
   ]
  },
  {
   "cell_type": "code",
   "execution_count": null,
   "metadata": {
    "ExecuteTime": {
     "end_time": "2019-02-20T16:35:34.851638Z",
     "start_time": "2019-02-20T16:35:34.826575Z"
    }
   },
   "outputs": [],
   "source": [
    "df[df['param_C'] < 0.01]"
   ]
  },
  {
   "cell_type": "markdown",
   "metadata": {},
   "source": [
    "They also provide most functionality you would expect as database user (`df.sort_values`, `df.groupby`, `df.join`, `df.concat`, etc.)"
   ]
  },
  {
   "cell_type": "code",
   "execution_count": null,
   "metadata": {
    "ExecuteTime": {
     "end_time": "2019-02-20T16:35:35.071086Z",
     "start_time": "2019-02-20T16:35:34.853988Z"
    },
    "scrolled": false
   },
   "outputs": [],
   "source": [
    "fig, ax = plt.subplots()\n",
    "ax.plot(df['mean_test_score'], label=\"validation error\")\n",
    "ax.plot(df['mean_train_score'], label=\"training error\")\n",
    "ax.set_xticklabels(df['param_C'])\n",
    "ax.set_xlabel(\"C\")\n",
    "ax.set_ylabel(\"Accuracy\")\n",
    "ax.legend(loc='best');"
   ]
  },
  {
   "cell_type": "markdown",
   "metadata": {
    "ExecuteTime": {
     "end_time": "2019-02-19T20:36:16.683621Z",
     "start_time": "2019-02-19T20:36:16.679694Z"
    }
   },
   "source": [
    "## Other packages "
   ]
  },
  {
   "cell_type": "markdown",
   "metadata": {},
   "source": [
    "Other packages that didn't make the cut:\n",
    "- [Plotly](https://plot.ly) and [Seaborn](http://seaborn.pydata.org): two other plotting libraries\n",
    "- [Scipy](https://www.scipy.org): a science library built on top of Numpy\n",
    "- [Scrapy](https://www.scipy.org): a web crawling library\n",
    "- [pdb](https://docs.python.org/3/library/pdb.html): a debugger for python (not ML-specific but terribly useful)\n",
    "- [tqdm](https://github.com/tqdm/tqdm): a progress bar (not ML-specific)\n",
    "\n",
    "Next time:\n",
    "- [Pytorch](https://pytorch.org)"
   ]
  }
 ],
 "metadata": {
  "kernelspec": {
   "display_name": "Python 3",
   "language": "python",
   "name": "python3"
  },
  "language_info": {
   "codemirror_mode": {
    "name": "ipython",
    "version": 3
   },
   "file_extension": ".py",
   "mimetype": "text/x-python",
   "name": "python",
   "nbconvert_exporter": "python",
   "pygments_lexer": "ipython3",
   "version": "3.8.5"
  },
  "toc": {
   "base_numbering": 1,
   "nav_menu": {},
   "number_sections": true,
   "sideBar": true,
   "skip_h1_title": false,
   "title_cell": "Table of Contents",
   "title_sidebar": "Contents",
   "toc_cell": false,
   "toc_position": {
    "height": "calc(100% - 180px)",
    "left": "10px",
    "top": "150px",
    "width": "164px"
   },
   "toc_section_display": true,
   "toc_window_display": true
  }
 },
 "nbformat": 4,
 "nbformat_minor": 2
}
